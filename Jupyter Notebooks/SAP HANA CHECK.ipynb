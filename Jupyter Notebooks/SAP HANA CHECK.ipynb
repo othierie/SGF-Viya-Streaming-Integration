{
 "cells": [
  {
   "cell_type": "code",
   "execution_count": 1,
   "metadata": {},
   "outputs": [],
   "source": [
    "import pyhdb\n",
    "#download https://tools.hana.ondemand.com/sdk/neo-javaee7-wp-sdk-1.45.12.zip\n",
    "#run code below for your own user in a screen\n",
    "#sh neo.sh open-db-tunnel -h hanatrial.ondemand.com -a trialUser -u Username -i HanaInstance -p passwordOfYourSapUser"
   ]
  },
  {
   "cell_type": "code",
   "execution_count": 2,
   "metadata": {},
   "outputs": [],
   "source": [
    "import pyhdb\n",
    "connection = pyhdb.connect(\n",
    "    host=\"localhost\",\n",
    "    port=30015,\n",
    "    user=\"SYSTEM\",\n",
    "    password=\"password of your SYSTEM user in HANA\"\n",
    ")\n",
    "cursor = connection.cursor()"
   ]
  },
  {
   "cell_type": "code",
   "execution_count": 3,
   "metadata": {},
   "outputs": [],
   "source": [
    "cursor = connection.cursor()"
   ]
  },
  {
   "cell_type": "code",
   "execution_count": 4,
   "metadata": {},
   "outputs": [
    {
     "data": {
      "text/plain": [
       "('X',)"
      ]
     },
     "execution_count": 4,
     "metadata": {},
     "output_type": "execute_result"
    }
   ],
   "source": [
    "cursor.execute(\"SELECT * FROM DUMMY\")\n",
    "cursor.fetchone()"
   ]
  },
  {
   "cell_type": "code",
   "execution_count": 5,
   "metadata": {
    "scrolled": true
   },
   "outputs": [
    {
     "data": {
      "text/plain": [
       "[('SYSTEM', 'SIMPLE_TEST'),\n",
       " ('SYSTEM', 'SYS_AFL_GENERATOR_PARAMETERS'),\n",
       " ('SYSTEM', 'TEST1'),\n",
       " ('SYSTEM', 'DUMMY_TABLE2'),\n",
       " ('SYSTEM', 'DUMMY_TABLE3'),\n",
       " ('SYSTEM', 'DUMMY_TABLE4'),\n",
       " ('SYSTEM', 'DUMMY_TABLE5'),\n",
       " ('SYSTEM', 'DUMMY_TABLE6'),\n",
       " ('SYSTEM', 'DUMMY_TABLE7'),\n",
       " ('SYSTEM', 'KAFKATABLE'),\n",
       " ('SYSTEM', 'KAFKA_HANA_TABLE'),\n",
       " ('SYSTEM', 'SAP_KAFKA'),\n",
       " ('SYSTEM', 'imageKafka'),\n",
       " ('SYSTEM', 'kafka_table'),\n",
       " ('SYSTEM', 'tablekafka')]"
      ]
     },
     "execution_count": 5,
     "metadata": {},
     "output_type": "execute_result"
    }
   ],
   "source": [
    "cursor.execute(\"SELECT SCHEMA_NAME, TABLE_NAME FROM TABLES WHERE SCHEMA_NAME = 'SYSTEM'\")\n",
    "cursor.fetchall()"
   ]
  },
  {
   "cell_type": "code",
   "execution_count": 11,
   "metadata": {},
   "outputs": [
    {
     "data": {
      "text/plain": [
       "[(107,)]"
      ]
     },
     "execution_count": 11,
     "metadata": {},
     "output_type": "execute_result"
    }
   ],
   "source": [
    "cursor.execute(\"SELECT count(*) FROM SYSTEM.KAFKA_HANA_TABLE \")\n",
    "cursor.fetchall()"
   ]
  },
  {
   "cell_type": "code",
   "execution_count": 70,
   "metadata": {},
   "outputs": [
    {
     "data": {
      "text/plain": [
       "[('SYSTEM', 'KAFKA_HANA_TABLE')]"
      ]
     },
     "execution_count": 70,
     "metadata": {},
     "output_type": "execute_result"
    }
   ],
   "source": [
    "cursor.execute(\"SELECT SCHEMA_NAME, TABLE_NAME FROM TABLES WHERE SCHEMA_NAME = 'SYSTEM' AND TABLE_NAME = 'KAFKA_HANA_TABLE'\")\n",
    "cursor.fetchall()"
   ]
  },
  {
   "cell_type": "code",
   "execution_count": null,
   "metadata": {},
   "outputs": [],
   "source": []
  },
  {
   "cell_type": "code",
   "execution_count": null,
   "metadata": {},
   "outputs": [],
   "source": []
  },
  {
   "cell_type": "code",
   "execution_count": null,
   "metadata": {},
   "outputs": [],
   "source": []
  },
  {
   "cell_type": "code",
   "execution_count": null,
   "metadata": {},
   "outputs": [],
   "source": []
  },
  {
   "cell_type": "code",
   "execution_count": null,
   "metadata": {},
   "outputs": [],
   "source": []
  }
 ],
 "metadata": {
  "kernelspec": {
   "display_name": "Python 3",
   "language": "python",
   "name": "python3"
  },
  "language_info": {
   "codemirror_mode": {
    "name": "ipython",
    "version": 3
   },
   "file_extension": ".py",
   "mimetype": "text/x-python",
   "name": "python",
   "nbconvert_exporter": "python",
   "pygments_lexer": "ipython3",
   "version": "3.6.7"
  }
 },
 "nbformat": 4,
 "nbformat_minor": 2
}
